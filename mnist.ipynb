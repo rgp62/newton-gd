{
 "cells": [
  {
   "cell_type": "code",
   "execution_count": 1,
   "metadata": {},
   "outputs": [],
   "source": [
    "import numpy as np\n",
    "import tensorflow as tf\n",
    "import scipy\n",
    "import tensorflow_datasets as tfds\n",
    "import matplotlib.pylab as plt\n",
    "import newton\n",
    "import imp\n",
    "imp.reload(newton)\n",
    "\n",
    "\n",
    "tf.keras.backend.set_floatx('float64')"
   ]
  },
  {
   "cell_type": "code",
   "execution_count": 2,
   "metadata": {},
   "outputs": [],
   "source": [
    "#separate data into training set, validation set, test set\n",
    "(x_train, y_train), (x_test, y_test) = tf.keras.datasets.mnist.load_data()\n",
    "x_train, x_test = x_train[..., np.newaxis]/255.0, x_test[..., np.newaxis]/255.0\n",
    "\n",
    "x_val = x_train[0:10000]\n",
    "y_val = y_train[0:10000]\n",
    "x_train = x_train[10000:]\n",
    "y_train = y_train[10000:]\n",
    "\n",
    "#batch size\n",
    "bs = 10000"
   ]
  },
  {
   "cell_type": "code",
   "execution_count": 3,
   "metadata": {},
   "outputs": [],
   "source": [
    "#create linear solver to use in newton iterations\n",
    "#p = ['dense',1e-12]        #dense linear solver, l2 regularizer\n",
    "p = ['cg',1e-6,3]           #congugate gradient linear solver, tolerance, max iterations\n",
    "LS = newton.makeLS(p)\n",
    "\n",
    "lr=1e-3 #adam learning rate\n",
    "\n",
    "\n",
    "#dense neural network model\n",
    "def makemodel(opt):\n",
    "    NN = tf.keras.models.Sequential([\n",
    "      tf.keras.layers.Flatten(input_shape=(28, 28, 1)),\n",
    "      tf.keras.layers.Dense(128,activation='relu'),\n",
    "      tf.keras.layers.Dense(10,activation='relu'),\n",
    "      tf.keras.layers.Dense(10, activation='softmax',use_bias=False)\n",
    "    ])\n",
    "    nvars = NN.variables[-1]\n",
    "    if opt == 'ngd':\n",
    "        gdvars = NN.variables[0:-1]\n",
    "    elif opt == 'gd':\n",
    "        gdvars = NN.variables\n",
    "    gopt=tf.keras.optimizers.Adam(lr)\n",
    "    \n",
    "    m = newton.model(NN,nvars,gdvars,gopt,LS)\n",
    "    return m"
   ]
  },
  {
   "cell_type": "code",
   "execution_count": 4,
   "metadata": {},
   "outputs": [
    {
     "name": "stdout",
     "output_type": "stream",
     "text": [
      "Newton+GD test accuracy:  0.9388\n",
      "GD test accuracy:  0.9159\n"
     ]
    }
   ],
   "source": [
    "#trains model with newton-gd\n",
    "ngd = makemodel('ngd')\n",
    "ngd_Js=[]\n",
    "ngd_accs = []\n",
    "for epochs in range(10):\n",
    "    for b in range(len(x_train)//bs):\n",
    "        x = x_train[b*bs:(b+1)*bs]\n",
    "        ytrue = y_train[b*bs:(b+1)*bs]\n",
    "    \n",
    "        for i in range(5):\n",
    "            ngd.newton(x,ytrue)\n",
    "\n",
    "        ngd_Js.append(ngd.getJ(x,ytrue).numpy())\n",
    "        ngd_accs.append(ngd.getacc(x_val,y_val))\n",
    "\n",
    "        ngd.gd(x,ytrue)\n",
    "        ngd_Js.append(ngd.getJ(x,ytrue).numpy())\n",
    "        ngd_accs.append(ngd.getacc(x_val,y_val))\n",
    "\n",
    "print('Newton+GD test accuracy: ',ngd.getacc(x_test,y_test))\n",
    "\n",
    "\n",
    "\n",
    "\n",
    "\n",
    "#trains model with gd\n",
    "gd = makemodel('gd')\n",
    "gd_Js=[]\n",
    "gd_accs = []\n",
    "for epochs in range(20):\n",
    "    for b in range(len(x_train)//bs):\n",
    "        x = x_train[b*bs:(b+1)*bs]\n",
    "        ytrue = y_train[b*bs:(b+1)*bs]\n",
    "\n",
    "        gd.gd(x,ytrue)\n",
    "        gd_Js.append(gd.getJ(x,ytrue).numpy())\n",
    "        gd_accs.append(gd.getacc(x_val,y_val))\n",
    "\n",
    "print('GD test accuracy: ',gd.getacc(x_test,y_test))"
   ]
  },
  {
   "cell_type": "code",
   "execution_count": 5,
   "metadata": {},
   "outputs": [
    {
     "data": {
      "image/png": "[encoded data removed]",
      "text/plain": [
       "<Figure size 432x288 with 1 Axes>"
      ]
     },
     "metadata": {
      "needs_background": "light"
     },
     "output_type": "display_data"
    }
   ],
   "source": [
    "plt.plot(ngd_accs,label=\"Newton+GD\")\n",
    "plt.plot(gd_accs,label=\"GD\")\n",
    "plt.xlabel(\"Iteration\")\n",
    "plt.ylabel(\"Validation accuracy\")\n",
    "plt.legend()\n",
    "plt.show()"
   ]
  }
 ],
 "metadata": {
  "kernelspec": {
   "display_name": "Python 3",
   "language": "python",
   "name": "python3"
  },
  "language_info": {
   "codemirror_mode": {
    "name": "ipython",
    "version": 3
   },
   "file_extension": ".py",
   "mimetype": "text/x-python",
   "name": "python",
   "nbconvert_exporter": "python",
   "pygments_lexer": "ipython3",
   "version": "3.7.7"
  }
 },
 "nbformat": 4,
 "nbformat_minor": 2
}
